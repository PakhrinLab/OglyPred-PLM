{
 "cells": [
  {
   "cell_type": "code",
   "execution_count": 1,
   "id": "bb31b10a",
   "metadata": {},
   "outputs": [],
   "source": [
    "import os\n",
    "import numpy as np\n",
    "import pandas as pd\n",
    "from sklearn.metrics import *\n",
    "import tensorflow as tf\n",
    "from tensorflow import keras"
   ]
  },
  {
   "cell_type": "code",
   "execution_count": 2,
   "id": "f8583508",
   "metadata": {},
   "outputs": [],
   "source": [
    "os.chdir(\"/home/t326h379/OGP\")"
   ]
  },
  {
   "cell_type": "code",
   "execution_count": 3,
   "id": "e7d9e6fa",
   "metadata": {},
   "outputs": [],
   "source": [
    "df_negative_test = pd.read_csv('Feature_Extraction_July_30_Sprint_Gly_Negative_Independent_Test_3376_.txt',header=None)\n",
    "df_positive_test = pd.read_csv('Feature_Extraction_July_30_Sprint_Gly_Positive_Independent_Test_79_.txt',header=None)"
   ]
  },
  {
   "cell_type": "code",
   "execution_count": 4,
   "id": "653f9131",
   "metadata": {},
   "outputs": [],
   "source": [
    "Header_name = [\"Position\",\"PID\",\"S or T\"]\n",
    "\n",
    "col_of_feature = [i for i in range(1,1025)]\n",
    "\n",
    "Header_name = Header_name + col_of_feature\n",
    "\n",
    "df_positive_test.columns = Header_name\n",
    "df_negative_test.columns = Header_name"
   ]
  },
  {
   "cell_type": "markdown",
   "id": "d34a3722",
   "metadata": {},
   "source": [
    "# Load the Trained Model"
   ]
  },
  {
   "cell_type": "code",
   "execution_count": 5,
   "id": "66ea4de0",
   "metadata": {},
   "outputs": [],
   "source": [
    "model = tf.keras.models.load_model(\"Compare_with_Sprint_Gly486__103928619___.h5\")"
   ]
  },
  {
   "cell_type": "code",
   "execution_count": 6,
   "id": "bccb389d",
   "metadata": {},
   "outputs": [
    {
     "name": "stdout",
     "output_type": "stream",
     "text": [
      "Model: \"sequential_786\"\n",
      "_________________________________________________________________\n",
      "Layer (type)                 Output Shape              Param #   \n",
      "=================================================================\n",
      "dense_1572 (Dense)           (None, 512)               524800    \n",
      "_________________________________________________________________\n",
      "dropout_2358 (Dropout)       (None, 512)               0         \n",
      "_________________________________________________________________\n",
      "dense_1573 (Dense)           (None, 256)               131328    \n",
      "_________________________________________________________________\n",
      "dropout_2359 (Dropout)       (None, 256)               0         \n",
      "_________________________________________________________________\n",
      "Dense_1 (Dense)              (None, 32)                8224      \n",
      "_________________________________________________________________\n",
      "dropout_2360 (Dropout)       (None, 32)                0         \n",
      "_________________________________________________________________\n",
      "Dense_2 (Dense)              (None, 2)                 66        \n",
      "=================================================================\n",
      "Total params: 664,418\n",
      "Trainable params: 664,418\n",
      "Non-trainable params: 0\n",
      "_________________________________________________________________\n"
     ]
    }
   ],
   "source": [
    "model.summary()"
   ]
  },
  {
   "cell_type": "code",
   "execution_count": 7,
   "id": "cd155caa",
   "metadata": {},
   "outputs": [],
   "source": [
    "frames_test = [df_positive_test, df_negative_test]\n",
    "\n",
    "O_linked_testing = pd.concat(frames_test,ignore_index = True)\n",
    "\n",
    "df_Test_array = O_linked_testing.drop([\"Position\",\"PID\",\"S or T\"],axis=1)\n",
    "df_Test_array = np.array(df_Test_array)\n",
    "\n",
    "X_test_full = df_Test_array\n",
    "\n",
    "y_test_full = np.array([1]*79+[0]*3376)"
   ]
  },
  {
   "cell_type": "code",
   "execution_count": 8,
   "id": "16a10c63",
   "metadata": {},
   "outputs": [],
   "source": [
    "X_independent = X_test_full\n",
    "y_independent = y_test_full"
   ]
  },
  {
   "cell_type": "code",
   "execution_count": 9,
   "id": "584e0c0e",
   "metadata": {},
   "outputs": [
    {
     "name": "stdout",
     "output_type": "stream",
     "text": [
      "\n",
      "Matthews Correlation :  0.29761701839122134\n",
      "\n",
      "Confusion Matrix : \n",
      " [[2892  484]\n",
      " [  10   69]]\n",
      "\n",
      "Accuracy on test set:    0.8570188133140376\n",
      "\n",
      "Sensitivity:    0.8734177215189873 \t Specificity:    0.8566350710900474\n",
      "\n",
      "Precision  : 0.12477396021699819\n",
      "\n",
      "              precision    recall  f1-score   support\n",
      "\n",
      "           0       1.00      0.86      0.92      3376\n",
      "           1       0.12      0.87      0.22        79\n",
      "\n",
      "    accuracy                           0.86      3455\n",
      "   macro avg       0.56      0.87      0.57      3455\n",
      "weighted avg       0.98      0.86      0.91      3455\n",
      "\n",
      "\n",
      "Area Under Curve:    0.8650263963045175\n"
     ]
    }
   ],
   "source": [
    "Y_pred = model.predict(X_independent)\n",
    "Y_pred = (Y_pred > 0.5)\n",
    "y_pred = [np.argmax(y, axis=None, out=None) for y in Y_pred]\n",
    "y_pred = np.array(y_pred)\n",
    "\n",
    "confusion = confusion_matrix(y_independent,y_pred)\n",
    "print()\n",
    "print(\"Matthews Correlation : \",matthews_corrcoef(y_independent, y_pred))\n",
    "print()\n",
    "print(\"Confusion Matrix : \\n\",confusion_matrix(y_independent, y_pred))\n",
    "print()\n",
    "print(\"Accuracy on test set:   \",accuracy_score(y_independent, y_pred))\n",
    "\n",
    "cm = confusion_matrix(y_independent, y_pred)\n",
    "\n",
    "TP = cm[1][1]\n",
    "TN = cm[0][0]\n",
    "FP = cm[0][1]\n",
    "FN = cm[1][0]\n",
    "\n",
    "mcc = matthews_corrcoef(y_independent, y_pred)\n",
    "\n",
    "Sensitivity = TP/(TP+FN)\n",
    "\n",
    "Specificity = TN/(TN+FP)\n",
    "\n",
    "Precision = TP/(TP+FP)\n",
    "\n",
    "print()\n",
    "print(\"Sensitivity:   \",Sensitivity,\"\\t\",\"Specificity:   \",Specificity)\n",
    "print()\n",
    "print(\"Precision  :\",Precision)\n",
    "print()\n",
    "print(classification_report(y_independent, y_pred))\n",
    "\n",
    "fpr, tpr, _ = roc_curve(y_independent, y_pred)\n",
    "\n",
    "roc_auc_test = auc(fpr,tpr)\n",
    "print()\n",
    "\n",
    "print(\"Area Under Curve:   \",roc_auc_test)"
   ]
  },
  {
   "cell_type": "markdown",
   "id": "20408f62",
   "metadata": {},
   "source": [
    "# Thank You"
   ]
  },
  {
   "cell_type": "code",
   "execution_count": null,
   "id": "0d1526be",
   "metadata": {},
   "outputs": [],
   "source": []
  }
 ],
 "metadata": {
  "kernelspec": {
   "display_name": "Python 3.7.4-TensorFlow-2.3.1 [jupyter_python]",
   "language": "python",
   "name": "sys_python_3.7.4-tensorflow-2.3.1"
  },
  "language_info": {
   "codemirror_mode": {
    "name": "ipython",
    "version": 3
   },
   "file_extension": ".py",
   "mimetype": "text/x-python",
   "name": "python",
   "nbconvert_exporter": "python",
   "pygments_lexer": "ipython3",
   "version": "3.7.4"
  }
 },
 "nbformat": 4,
 "nbformat_minor": 5
}
