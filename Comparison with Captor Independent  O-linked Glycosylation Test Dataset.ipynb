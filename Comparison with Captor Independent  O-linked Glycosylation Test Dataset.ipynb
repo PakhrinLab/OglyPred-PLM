{
 "cells": [
  {
   "cell_type": "code",
   "execution_count": 2,
   "id": "7d6ca38b",
   "metadata": {},
   "outputs": [],
   "source": [
    "import os\n",
    "import numpy as np\n",
    "import pandas as pd\n",
    "from sklearn.metrics import *\n",
    "import tensorflow as tf\n",
    "from tensorflow import keras"
   ]
  },
  {
   "cell_type": "code",
   "execution_count": 3,
   "id": "7e6a71d8",
   "metadata": {},
   "outputs": [],
   "source": [
    "os.chdir(\"/home/t326h379/Captor\")\n",
    "\n",
    "df_Independent_Test_Set_Negative = pd.read_csv('Feature_Extraction_August_3_Captor_Independent_Negative_Test_1308_or_less.txt',header = None)\n",
    "df_Independent_Test_Set_Positive = pd.read_csv('Feature_Extraction_August_3_Captor_Independent_Positive_Test_341_or_less.txt',header = None)\n",
    "\n",
    "Header_name_Independent = [\"Position\",\"PID\",\"S or T\"]\n",
    "\n",
    "col_of_feature = [i for i in range(1,1025)]\n",
    "\n",
    "Header_name_Independent = Header_name_Independent + col_of_feature\n",
    "\n",
    "df_Independent_Test_Set_Negative.columns = Header_name_Independent \n",
    "df_Independent_Test_Set_Positive.columns = Header_name_Independent \n",
    "\n",
    "frames = [df_Independent_Test_Set_Positive, df_Independent_Test_Set_Negative]\n",
    "\n",
    "O_linked_testing = pd.concat(frames,ignore_index = True)\n",
    "\n",
    "df_Test_array = O_linked_testing.drop([\"Position\",\"PID\",\"S or T\"],axis=1)\n",
    "df_Test_array = np.array(df_Test_array)\n",
    "\n",
    "X_test_full = df_Test_array\n",
    "\n",
    "y_test_full = np.array([1]*340+[0]*1307)"
   ]
  },
  {
   "cell_type": "code",
   "execution_count": 5,
   "id": "a8e80be6",
   "metadata": {},
   "outputs": [],
   "source": [
    "X_independent = X_test_full \n",
    "y_independent = y_test_full"
   ]
  },
  {
   "cell_type": "markdown",
   "id": "7e009241",
   "metadata": {},
   "source": [
    "# Load the trained model"
   ]
  },
  {
   "cell_type": "code",
   "execution_count": 4,
   "id": "f608be0c",
   "metadata": {},
   "outputs": [],
   "source": [
    "model = tf.keras.models.load_model(\"Compare_with_captor375__1438311___.h5\")"
   ]
  },
  {
   "cell_type": "code",
   "execution_count": 7,
   "id": "b9ed1c1c",
   "metadata": {},
   "outputs": [
    {
     "name": "stdout",
     "output_type": "stream",
     "text": [
      "\n",
      "Matthews Correlation :  0.50428783831558\n",
      "\n",
      "Confusion Matrix : \n",
      " [[1057  250]\n",
      " [  79  261]]\n",
      "\n",
      "Accuracy on test set:    0.8002428658166363\n",
      "\n",
      "Sensitivity:    0.7676470588235295 \t Specificity:    0.8087222647283856\n",
      "\n",
      "Precision  : 0.5107632093933464\n",
      "\n",
      "              precision    recall  f1-score   support\n",
      "\n",
      "           0       0.93      0.81      0.87      1307\n",
      "           1       0.51      0.77      0.61       340\n",
      "\n",
      "    accuracy                           0.80      1647\n",
      "   macro avg       0.72      0.79      0.74      1647\n",
      "weighted avg       0.84      0.80      0.81      1647\n",
      "\n",
      "\n",
      "Area Under Curve:    0.7881846617759575\n"
     ]
    }
   ],
   "source": [
    "Y_pred = model.predict(X_independent)\n",
    "Y_pred = (Y_pred > 0.5)\n",
    "y_pred = [np.argmax(y, axis=None, out=None) for y in Y_pred]\n",
    "y_pred = np.array(y_pred)\n",
    "\n",
    "confusion = confusion_matrix(y_independent,y_pred)\n",
    "print()\n",
    "print(\"Matthews Correlation : \",matthews_corrcoef(y_independent, y_pred))\n",
    "print()\n",
    "print(\"Confusion Matrix : \\n\",confusion_matrix(y_independent, y_pred))\n",
    "print()\n",
    "print(\"Accuracy on test set:   \",accuracy_score(y_independent, y_pred))\n",
    "\n",
    "cm = confusion_matrix(y_independent, y_pred)\n",
    "\n",
    "TP = cm[1][1]\n",
    "TN = cm[0][0]\n",
    "FP = cm[0][1]\n",
    "FN = cm[1][0]\n",
    "\n",
    "mcc = matthews_corrcoef(y_independent, y_pred)\n",
    "\n",
    "Sensitivity = TP/(TP+FN)\n",
    "\n",
    "Specificity = TN/(TN+FP)\n",
    "\n",
    "Precision = TP/(TP+FP)\n",
    "\n",
    "print()\n",
    "print(\"Sensitivity:   \",Sensitivity,\"\\t\",\"Specificity:   \",Specificity)\n",
    "print()\n",
    "print(\"Precision  :\",Precision)\n",
    "print()\n",
    "print(classification_report(y_independent, y_pred))\n",
    "\n",
    "fpr, tpr, _ = roc_curve(y_independent, y_pred)\n",
    "\n",
    "roc_auc_test = auc(fpr,tpr)\n",
    "print()\n",
    "\n",
    "print(\"Area Under Curve:   \",roc_auc_test)"
   ]
  },
  {
   "cell_type": "markdown",
   "id": "b1baaf41",
   "metadata": {},
   "source": [
    "# Thank You"
   ]
  }
 ],
 "metadata": {
  "kernelspec": {
   "display_name": "Python 3.7.4-TensorFlow-2.3.1 [jupyter_python]",
   "language": "python",
   "name": "sys_python_3.7.4-tensorflow-2.3.1"
  },
  "language_info": {
   "codemirror_mode": {
    "name": "ipython",
    "version": 3
   },
   "file_extension": ".py",
   "mimetype": "text/x-python",
   "name": "python",
   "nbconvert_exporter": "python",
   "pygments_lexer": "ipython3",
   "version": "3.7.4"
  }
 },
 "nbformat": 4,
 "nbformat_minor": 5
}
