{
 "cells": [
  {
   "cell_type": "code",
   "execution_count": 8,
   "id": "865630ed",
   "metadata": {},
   "outputs": [],
   "source": [
    "import os\n",
    "import numpy as np\n",
    "import pandas as pd\n",
    "from sklearn.metrics import *\n",
    "import tensorflow as tf\n",
    "from tensorflow import keras\n",
    "from imblearn.under_sampling import RandomUnderSampler\n",
    "\n",
    "\n",
    "os.chdir(\"/home/t326h379/OGP\")"
   ]
  },
  {
   "cell_type": "code",
   "execution_count": 5,
   "id": "782d764a",
   "metadata": {},
   "outputs": [],
   "source": [
    "df_negative_test = pd.read_csv('Feature_Extraction_O_linked_Testing_Negative_11466_Sites_less.txt',header=None)\n",
    "df_positive_test = pd.read_csv('Feature_Extraction_O_linked_Testing_Positive_375_Sites_less.txt',header=None)\n",
    "\n",
    "Header_name = [\"Position\",\"PID\",\"Position_redundant\",\"81 Window sequence\",\"S or T\"]\n",
    "\n",
    "col_of_feature = [i for i in range(1,1025)]\n",
    "\n",
    "Header_name = Header_name + col_of_feature\n",
    "\n",
    "df_positive_test.columns = Header_name\n",
    "\n",
    "df_negative_test.columns = Header_name\n",
    "\n",
    "\n",
    "frames_test = [df_positive_test, df_negative_test]\n",
    "\n",
    "O_linked_testing = pd.concat(frames_test,ignore_index = True)\n",
    "\n",
    "df_Test_array = O_linked_testing.drop([\"Position\",\"PID\",\"Position_redundant\",\"81 Window sequence\",\"S or T\"],axis=1)\n",
    "df_Test_array = np.array(df_Test_array)\n",
    "\n",
    "X_test_full = df_Test_array\n",
    "\n",
    "y_test_full = np.array([1]*374+[0]*11466)"
   ]
  },
  {
   "cell_type": "markdown",
   "id": "0ab0e52a",
   "metadata": {},
   "source": [
    "# Undersampled Independent Test Dataset"
   ]
  },
  {
   "cell_type": "code",
   "execution_count": 9,
   "id": "daace036",
   "metadata": {},
   "outputs": [
    {
     "name": "stdout",
     "output_type": "stream",
     "text": [
      "Seed    : 370381\n"
     ]
    }
   ],
   "source": [
    "seed = 370381\n",
    "print(\"Seed    :\",seed)\n",
    "rus = RandomUnderSampler(random_state = seed)\n",
    "X_independent, y_independent = rus.fit_resample(X_test_full,y_test_full)"
   ]
  },
  {
   "cell_type": "markdown",
   "id": "81f8d36e",
   "metadata": {},
   "source": [
    "# Load the Trained Model"
   ]
  },
  {
   "cell_type": "code",
   "execution_count": 6,
   "id": "9eccf9bd",
   "metadata": {},
   "outputs": [],
   "source": [
    "model = tf.keras.models.load_model(\"Prot_T5_my_model_O_linked_Glycosylation370381Prot_T5_Subash_Salman_Neha.h5\")"
   ]
  },
  {
   "cell_type": "markdown",
   "id": "efa61d4f",
   "metadata": {},
   "source": [
    "# Predict whether the site is O-linked Glycosylated or Not"
   ]
  },
  {
   "cell_type": "code",
   "execution_count": 16,
   "id": "561ab716",
   "metadata": {},
   "outputs": [
    {
     "name": "stdout",
     "output_type": "stream",
     "text": [
      "Independent Testing Matthews Correlation:  0.6126696948450258\n",
      "\n",
      "\n",
      "Confusion Matrix : \n",
      " [[308  66]\n",
      " [ 79 295]]\n",
      "\n",
      "\n",
      "Accuracy on test set:    0.8061497326203209\n",
      "\n",
      "\n",
      "Sensitivity:    0.7887700534759359 \t Specificity:    0.8235294117647058\n",
      "\n",
      "\n",
      "Precision :   0.817174515235457\n",
      "\n",
      "\n",
      "Area Under Curve:    0.8061497326203209\n"
     ]
    }
   ],
   "source": [
    "Y_pred = model.predict(X_independent)\n",
    "Y_pred = (Y_pred > 0.5)\n",
    "y_pred = [np.argmax(y, axis=None, out=None) for y in Y_pred]\n",
    "y_pred = np.array(y_pred)\n",
    "print(\"Independent Testing Matthews Correlation: \",matthews_corrcoef(y_independent, y_pred))\n",
    "print()\n",
    "print()\n",
    "print(\"Confusion Matrix : \\n\",confusion_matrix(y_independent, y_pred))\n",
    "print()\n",
    "print()\n",
    "print(\"Accuracy on test set:   \",accuracy_score(y_independent, y_pred))\n",
    "print()\n",
    "cm = confusion_matrix(y_independent, y_pred)\n",
    "\n",
    "TP = cm[1][1]\n",
    "TN = cm[0][0]\n",
    "FP = cm[0][1]\n",
    "FN = cm[1][0]\n",
    "\n",
    "mcc = matthews_corrcoef(y_independent, y_pred)\n",
    "\n",
    "\n",
    "\n",
    "Sensitivity = TP/(TP+FN)\n",
    "\n",
    "Specificity = TN/(TN+FP)\n",
    "\n",
    "print()\n",
    "print(\"Sensitivity:   \",Sensitivity,\"\\t\",\"Specificity:   \",Specificity)\n",
    "print()\n",
    "\n",
    "fpr, tpr, _ = roc_curve(y_independent, y_pred)\n",
    "\n",
    "roc_auc_test = auc(fpr,tpr)\n",
    "\n",
    "pre = TP / (TP + FP)\n",
    "print()\n",
    "print(\"Precision :  \",pre)\n",
    "print()\n",
    "print()\n",
    "\n",
    "print(\"Area Under Curve:   \",roc_auc_test)"
   ]
  },
  {
   "cell_type": "code",
   "execution_count": 12,
   "id": "4d69bc22",
   "metadata": {},
   "outputs": [
    {
     "name": "stdout",
     "output_type": "stream",
     "text": [
      "Model: \"sequential_44\"\n",
      "_________________________________________________________________\n",
      "Layer (type)                 Output Shape              Param #   \n",
      "=================================================================\n",
      "dense_88 (Dense)             (None, 512)               524800    \n",
      "_________________________________________________________________\n",
      "dropout_132 (Dropout)        (None, 512)               0         \n",
      "_________________________________________________________________\n",
      "dense_89 (Dense)             (None, 256)               131328    \n",
      "_________________________________________________________________\n",
      "dropout_133 (Dropout)        (None, 256)               0         \n",
      "_________________________________________________________________\n",
      "Dense_1 (Dense)              (None, 32)                8224      \n",
      "_________________________________________________________________\n",
      "dropout_134 (Dropout)        (None, 32)                0         \n",
      "_________________________________________________________________\n",
      "Dense_2 (Dense)              (None, 2)                 66        \n",
      "=================================================================\n",
      "Total params: 664,418\n",
      "Trainable params: 664,418\n",
      "Non-trainable params: 0\n",
      "_________________________________________________________________\n"
     ]
    }
   ],
   "source": [
    "model.summary()"
   ]
  },
  {
   "cell_type": "markdown",
   "id": "e2038e02",
   "metadata": {},
   "source": [
    "# Without Undersampling the independent Test Dataset"
   ]
  },
  {
   "cell_type": "code",
   "execution_count": 17,
   "id": "f9aa15e0",
   "metadata": {},
   "outputs": [],
   "source": [
    "model_without_undersampling = tf.keras.models.load_model(\"Without_Undersampling_Prot_T5_my_model_O_linked_Glycosylation361035Prot_T5_Subash_Salman_Neha.h5\")"
   ]
  },
  {
   "cell_type": "code",
   "execution_count": null,
   "id": "d0159a83",
   "metadata": {},
   "outputs": [],
   "source": [
    "Y_pred = model.predict(X_independent)\n",
    "Y_pred = (Y_pred > 0.5)\n",
    "y_pred = [np.argmax(y, axis=None, out=None) for y in Y_pred]\n",
    "y_pred = np.array(y_pred)\n",
    "print(\"Independent Testing Matthews Correlation: \",matthews_corrcoef(y_independent, y_pred))\n",
    "print()\n",
    "print()\n",
    "print(\"Confusion Matrix : \\n\",confusion_matrix(y_independent, y_pred))\n",
    "print()\n",
    "print()\n",
    "print(\"Accuracy on test set:   \",accuracy_score(y_independent, y_pred))\n",
    "print()\n",
    "cm = confusion_matrix(y_independent, y_pred)\n",
    "\n",
    "TP = cm[1][1]\n",
    "TN = cm[0][0]\n",
    "FP = cm[0][1]\n",
    "FN = cm[1][0]\n",
    "\n",
    "mcc = matthews_corrcoef(y_independent, y_pred)\n",
    "\n",
    "\n",
    "\n",
    "Sensitivity = TP/(TP+FN)\n",
    "\n",
    "Specificity = TN/(TN+FP)\n",
    "\n",
    "print()\n",
    "print(\"Sensitivity:   \",Sensitivity,\"\\t\",\"Specificity:   \",Specificity)\n",
    "print()\n",
    "\n",
    "fpr, tpr, _ = roc_curve(y_independent, y_pred)\n",
    "\n",
    "roc_auc_test = auc(fpr,tpr)\n",
    "\n",
    "pre = TP / (TP + FP)\n",
    "print()\n",
    "print(\"Precision :  \",pre)\n",
    "print()\n",
    "print()\n",
    "\n",
    "print(\"Area Under Curve:   \",roc_auc_test)"
   ]
  },
  {
   "cell_type": "code",
   "execution_count": null,
   "id": "0474dc47",
   "metadata": {},
   "outputs": [],
   "source": []
  },
  {
   "cell_type": "code",
   "execution_count": null,
   "id": "30a45857",
   "metadata": {},
   "outputs": [],
   "source": []
  },
  {
   "cell_type": "markdown",
   "id": "bd8dfe40",
   "metadata": {},
   "source": [
    "# Thank You"
   ]
  },
  {
   "cell_type": "code",
   "execution_count": null,
   "id": "7ad9e6cc",
   "metadata": {},
   "outputs": [],
   "source": []
  }
 ],
 "metadata": {
  "kernelspec": {
   "display_name": "Python 3.7.4-TensorFlow-2.3.1 [jupyter_python]",
   "language": "python",
   "name": "sys_python_3.7.4-tensorflow-2.3.1"
  },
  "language_info": {
   "codemirror_mode": {
    "name": "ipython",
    "version": 3
   },
   "file_extension": ".py",
   "mimetype": "text/x-python",
   "name": "python",
   "nbconvert_exporter": "python",
   "pygments_lexer": "ipython3",
   "version": "3.7.4"
  }
 },
 "nbformat": 4,
 "nbformat_minor": 5
}
