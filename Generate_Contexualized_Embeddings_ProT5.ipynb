{
 "cells": [
  {
   "cell_type": "code",
   "execution_count": null,
   "id": "8239c1ef-9438-4718-a3b7-95d45ef7e070",
   "metadata": {},
   "outputs": [],
   "source": [
    "pip install torch\n",
    "pip install transformers\n",
    "pip install sentencepiece"
   ]
  },
  {
   "cell_type": "code",
   "execution_count": null,
   "id": "9d19b10a-e248-4e15-9858-533a7aad6e1f",
   "metadata": {},
   "outputs": [],
   "source": [
    "from transformers import TFT5EncoderModel, T5Tokenizer\n",
    "import numpy as np\n",
    "import re\n",
    "import gc\n",
    "import os\n",
    "import glob\n",
    "import re\n",
    "from Bio import SeqIO"
   ]
  },
  {
   "cell_type": "code",
   "execution_count": null,
   "id": "b1f84c11-65f1-48de-a898-51bf3c05c9c8",
   "metadata": {},
   "outputs": [],
   "source": [
    "basedir = \"/project/pakhrin/salman/after_cd_hit_files\"                           #set the directory where you have .fasta file is stored\n",
    "\n",
    "os.chdir(basedir)\n",
    "tokenizer = T5Tokenizer.from_pretrained(\"Rostlab/prot_t5_xl_uniref50\", do_lower_case=False )\n",
    "model = TFT5EncoderModel.from_pretrained(\"Rostlab/prot_t5_xl_uniref50\", from_pt=True)"
   ]
  },
  {
   "cell_type": "code",
   "execution_count": null,
   "id": "d933ad20-7cad-40c5-87a3-a21e7ef39282",
   "metadata": {},
   "outputs": [],
   "source": [
    "name = \"Q63HQ2.fasta\"                                 # Add your protein sequence file name here \n",
    "for seq_record in SeqIO.parse(name,\"fasta\"):\n",
    "        placeholder = seq_record.id\n",
    "        seq = str(seq_record.seq)\n",
    "        length_of_protein = len(seq)\n",
    "        sequence_of_amino_acid_of_protein = seq\n",
    "        placeholder = placeholder.split(\"|\")[1]\n",
    "       \n",
    "        seq = seq.replace(\"U\", \"X\")\n",
    "        seq = seq.replace(\"Z\", \"X\")\n",
    "        seq = seq.replace(\"O\", \"X\")\n",
    "        seq = seq.replace(\"B\", \"X\")\n",
    "        seq = str(' '.join(seq))\n",
    "                       \n",
    "        sequences_Example = [seq]\n",
    "        ids = tokenizer.batch_encode_plus(sequences_Example, add_special_tokens=True, padding=True, return_tensors=\"tf\")\n",
    "        input_ids = ids['input_ids']\n",
    "        attention_mask = ids['attention_mask']\n",
    "        embedding = model(input_ids)\n",
    "        embedding = np.asarray(embedding.last_hidden_state)\n",
    "        attention_mask = np.asarray(attention_mask)\n",
    "        features = []\n",
    "        for seq_num in range(len(embedding)):\n",
    "            seq_len = (attention_mask[seq_num] == 1).sum()\n",
    "            seq_emd = embedding[seq_num][:seq_len-1]\n",
    "            features.append(seq_emd)\n",
    "        features = features[0]\n",
    "        list_of_lists = features.tolist()\n",
    "        filename = placeholder+\"_Prot_Trans_\"+\".csv\"                   # output file will be name name0fProtein_Prot_Trans_.csv\n",
    "        fp = open(filename,\"a+\")\n",
    "        for i in range(length_of_protein):\n",
    "            features = list_of_lists[i]\n",
    "            features = str(features)\n",
    "            features = features.strip(\"[\")\n",
    "            features = features.strip(\"]\")\n",
    "            fp.write(sequence_of_amino_acid_of_protein[i])\n",
    "            fp.write(\",\")\n",
    "            fp.write(features)\n",
    "            fp.write(\"\\n\")\n",
    "        fp.close()"
   ]
  },
  {
   "cell_type": "code",
   "execution_count": null,
   "id": "d2ab2a98-36d8-4013-8047-4d875ef666e7",
   "metadata": {},
   "outputs": [],
   "source": []
  }
 ],
 "metadata": {
  "kernelspec": {
   "display_name": "Python 3 (ipykernel)",
   "language": "python",
   "name": "python3"
  },
  "language_info": {
   "codemirror_mode": {
    "name": "ipython",
    "version": 3
   },
   "file_extension": ".py",
   "mimetype": "text/x-python",
   "name": "python",
   "nbconvert_exporter": "python",
   "pygments_lexer": "ipython3",
   "version": "3.11.5"
  }
 },
 "nbformat": 4,
 "nbformat_minor": 5
}
