{
 "cells": [
  {
   "cell_type": "code",
   "execution_count": 2,
   "id": "b668c409-e9c5-4784-81b2-30617bcc7b89",
   "metadata": {},
   "outputs": [],
   "source": [
    "import numpy as np\n",
    "import pandas as pd\n",
    "from sklearn.metrics import *\n",
    "import tensorflow as tf"
   ]
  },
  {
   "cell_type": "markdown",
   "id": "9bffe83c-4f4e-40ce-ac06-e2ddd7c1abaf",
   "metadata": {},
   "source": [
    "# Load the Trained Model"
   ]
  },
  {
   "cell_type": "code",
   "execution_count": 3,
   "id": "047326fd-56ec-4007-b501-047ffa413400",
   "metadata": {},
   "outputs": [],
   "source": [
    "model = tf.keras.models.load_model(\"Prot_T5_my_model_O_linked_Glycosylation370381Prot_T5_Subash_Salman_Neha.h5\")"
   ]
  },
  {
   "cell_type": "code",
   "execution_count": 7,
   "id": "7edc173d-3631-406a-9f8f-22ae4abe4048",
   "metadata": {},
   "outputs": [],
   "source": [
    "O_linked_testing = pd.read_csv(\"Q63HQ2_S_T_Sites.csv\")\n",
    "df_Test_array = O_linked_testing.drop([\"Residue\"],axis=1)\n",
    "X_S_T = np.array(df_Test_array)"
   ]
  },
  {
   "cell_type": "markdown",
   "id": "eb053ac7-05c8-4708-9775-24ba33a9fb5d",
   "metadata": {},
   "source": [
    "# Predicts the O-linked Glycosylation status of S/T residues\n",
    "# 1 indicates O-linked Glycosylated residue \n",
    "# 0 indicates Non O-linked Glycosylated residue"
   ]
  },
  {
   "cell_type": "code",
   "execution_count": 8,
   "id": "c14ccbfa-2d9d-4e40-8c11-40f43ce3cfa7",
   "metadata": {},
   "outputs": [
    {
     "name": "stdout",
     "output_type": "stream",
     "text": [
      "5/5 [==============================] - 1s 6ms/step\n"
     ]
    },
    {
     "data": {
      "text/plain": [
       "array([0, 0, 0, 0, 0, 0, 0, 0, 0, 0, 0, 1, 1, 0, 0, 1, 0, 0, 1, 1, 0, 0,\n",
       "       0, 0, 0, 0, 0, 0, 0, 0, 0, 0, 0, 0, 0, 0, 1, 1, 1, 0, 1, 1, 1, 1,\n",
       "       1, 1, 1, 1, 0, 1, 1, 1, 0, 0, 0, 0, 0, 0, 0, 0, 0, 0, 0, 0, 0, 0,\n",
       "       0, 0, 0, 1, 0, 0, 0, 0, 0, 0, 0, 0, 0, 0, 0, 0, 0, 0, 1, 0, 0, 0,\n",
       "       0, 0, 0, 1, 0, 0, 0, 0, 0, 0, 0, 0, 0, 0, 0, 0, 0, 0, 0, 0, 0, 0,\n",
       "       0, 1, 0, 0, 1, 0, 0, 0, 0, 0, 0, 0, 0, 0, 0, 0, 0, 0, 0, 0, 0, 0,\n",
       "       0, 0, 0, 0, 0, 0, 0, 0], dtype=int64)"
      ]
     },
     "execution_count": 8,
     "metadata": {},
     "output_type": "execute_result"
    }
   ],
   "source": [
    "Y_pred = model.predict(X_S_T)\n",
    "Y_pred = (Y_pred > 0.5)\n",
    "y_pred = [np.argmax(y, axis=None, out=None) for y in Y_pred]\n",
    "y_pred = np.array(y_pred)\n",
    "y_pred"
   ]
  },
  {
   "cell_type": "markdown",
   "id": "a00bb50f-3b31-4197-a27e-01c014271352",
   "metadata": {},
   "source": [
    "# Thank You"
   ]
  },
  {
   "cell_type": "code",
   "execution_count": null,
   "id": "c72f1aa6-5d46-460b-b902-07eccc113ae9",
   "metadata": {},
   "outputs": [],
   "source": []
  }
 ],
 "metadata": {
  "kernelspec": {
   "display_name": "Python 3 (ipykernel)",
   "language": "python",
   "name": "python3"
  },
  "language_info": {
   "codemirror_mode": {
    "name": "ipython",
    "version": 3
   },
   "file_extension": ".py",
   "mimetype": "text/x-python",
   "name": "python",
   "nbconvert_exporter": "python",
   "pygments_lexer": "ipython3",
   "version": "3.11.5"
  }
 },
 "nbformat": 4,
 "nbformat_minor": 5
}
